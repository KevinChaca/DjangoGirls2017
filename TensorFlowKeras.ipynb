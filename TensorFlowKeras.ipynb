{
  "nbformat": 4,
  "nbformat_minor": 0,
  "metadata": {
    "colab": {
      "name": "TensorFlow1.ipynb",
      "provenance": [],
      "include_colab_link": true
    },
    "kernelspec": {
      "name": "python3",
      "display_name": "Python 3"
    },
    "language_info": {
      "name": "python"
    }
  },
  "cells": [
    {
      "cell_type": "markdown",
      "metadata": {
        "id": "view-in-github",
        "colab_type": "text"
      },
      "source": [
        "<a href=\"https://colab.research.google.com/github/KevinChaca/DjangoGirls2017/blob/master/TensorFlowKeras.ipynb\" target=\"_parent\"><img src=\"https://colab.research.google.com/assets/colab-badge.svg\" alt=\"Open In Colab\"/></a>"
      ]
    },
    {
      "cell_type": "code",
      "execution_count": null,
      "metadata": {
        "colab": {
          "base_uri": "https://localhost:8080/",
          "height": 608
        },
        "id": "6t5qVsEAiSEW",
        "outputId": "b52dc0a8-ea5f-4e39-af32-d89f6083b618"
      },
      "outputs": [
        {
          "output_type": "stream",
          "name": "stdout",
          "text": [
            "(100, 100)\n",
            "[[0.5 0.5 0.5 ... 0.5 0.5 0.5]\n",
            " [0.5 0.5 0.5 ... 0.5 0.5 0.5]\n",
            " [0.5 0.5 0.5 ... 0.5 0.5 0.5]\n",
            " ...\n",
            " [0.5 0.5 0.5 ... 0.5 0.5 0.5]\n",
            " [0.5 0.5 0.5 ... 0.5 0.5 0.5]\n",
            " [0.5 0.5 0.5 ... 0.5 0.5 0.5]]\n"
          ]
        },
        {
          "output_type": "display_data",
          "data": {
            "image/png": "[encoded data removed]",
            "text/plain": [
              "<Figure size 576x576 with 1 Axes>"
            ]
          },
          "metadata": {}
        }
      ],
      "source": [
        "import numpy as np\n",
        "import scipy as sc\n",
        "import matplotlib.pyplot as plt\n",
        "\n",
        "from sklearn.datasets import make_circles\n",
        "\n",
        "#Creamos nuestros datos artificiales, donde buscamos clasificar\n",
        "#dos anillos concentricos de datos\n",
        "X,Y = make_circles(n_samples=500,factor=0.5, noise=0.05)\n",
        "\n",
        "#Resolucion del mapa de prediccion\n",
        "res=100\n",
        "\n",
        "#coordenadas del mapa de prediccion\n",
        "_x0= np.linspace(-1.5,1.5,res)\n",
        "_x1= np.linspace(-1.5,1.5,res)\n",
        "\n",
        "#Input con cada combo de coordenadas del mapa de prediccion\n",
        "_pX= np.array(np.meshgrid(_x0,_x1)).T.reshape(-1,2)\n",
        "\n",
        "#objeto vacio a 0.5 del mapa de predccion\n",
        "_pY=np.zeros((res,res))+0.5\n",
        "print(_pY.shape)\n",
        "print(_pY)\n",
        "#Visualizacion del mapa de prediccion\n",
        "plt.figure(figsize=(8,8))\n",
        "plt.pcolormesh(_x0,_x1,_pY,cmap=\"coolwarm\",vmin=0,vmax=1)\n",
        "\n",
        "#Visualizacion de la nube de datos\n",
        "plt.scatter(X[Y==0,0], X[Y==0,1], c= \"skyblue\")\n",
        "plt.scatter(X[Y==1,0], X[Y==1,1], c= \"salmon\")\n",
        "\n",
        "plt.tick_params(labelbottom=False, labelleft=False)"
      ]
    },
    {
      "cell_type": "code",
      "source": [
        "from matplotlib import animation\n",
        "from IPython.core.display import display, HTML\n",
        "import time\n",
        "from IPython.display import clear_output\n",
        "import tensorflow.compat.v1 as tf\n",
        "tf.disable_v2_behavior()\n",
        "\n",
        "#Creamos los puntos de entrada de datos de nuestro grafo\n",
        "iX= tf.placeholder('float', shape=[None, X.shape[1]])\n",
        "iY = tf.placeholder('float', shape=[None])\n",
        "\n",
        "\n",
        "nn= [2,16,8,1] #Numero de neuronas por capa\n",
        "lr= 0.01 #Learning Rate del optimizador\n",
        "\n",
        "#Capa 1\n",
        "\n",
        "W1 = tf.Variable(tf.random_normal([nn[0], nn[1]]), name= 'Weight_1')\n",
        "b1 = tf.Variable(tf.random_normal([nn[1]]), name= 'bias_1')\n",
        "\n",
        "l1= tf.nn.relu(tf.add(tf.matmul(iX,W1),b1))\n",
        "\n",
        "#Capa 2\n",
        "\n",
        "W2 = tf.Variable(tf.random_normal([nn[1], nn[2]]), name= 'Weight_2')\n",
        "b2 = tf.Variable(tf.random_normal([nn[2]]), name= 'bias_2')\n",
        "\n",
        "l2= tf.nn.relu(tf.add(tf.matmul(l1,W2),b2))\n",
        "\n",
        "#Capa 3\n",
        "\n",
        "W3 = tf.Variable(tf.random_normal([nn[2], nn[3]]), name= 'Weight_3')\n",
        "b3 = tf.Variable(tf.random_normal([nn[3]]), name= 'bias_3')\n",
        "\n",
        "#Vector de predicciones\n",
        "pY= tf.nn.sigmoid(tf.add(tf.matmul(l2,W3),b3))[:,0]\n",
        "\n",
        "#evaluacion de las predicciones\n",
        "loss= tf.losses.mean_squared_error(pY, iY)\n",
        "\n",
        "#Crear el optimizador que entrenara la red\n",
        "optimizer= tf.train.GradientDescentOptimizer(learning_rate=lr).minimize(loss)\n",
        "\n",
        "n_steps=1000 #numero de pasos para entrenar a la red\n",
        "lossPlt=[]\n",
        "with tf.Session() as sess:\n",
        "  sess.run(tf.global_variables_initializer())\n",
        "  for step in range(n_steps):\n",
        "    #Evalaucion de los tensores de entrenamiento, coste y prediccion\n",
        "    _, _loss, _pY = sess.run([optimizer, loss, pY], feed_dict={iX:X, iY:Y})\n",
        "    print(_pY.shape)\n",
        "    if step % 25 ==0:\n",
        "      lossPlt.append(_loss)\n",
        "      print(X.shape)\n",
        "      print(Y.shape)\n",
        "      print(_pY.shape)\n",
        "      #calculo del accuracy entre el vector real y las predicciones\n",
        "      acc= np.mean(np.round(_pY)==Y)\n",
        "\n",
        "      plt.pcolormesh(X[:,0],X[:,1],_pY,cmap=\"coolwarm\",vmin=0,vmax=1)\n",
        "      #plt.pcolormesh(_x0, _x1, _pY, cmap=\"coolwarm\")\n",
        "      plt.axis(\"equal\")\n",
        "\n",
        "      plt.scatter(X[Y==0,0], X[Y==0,1], c= \"skyblue\")\n",
        "      plt.scatter(X[Y==1,0], X[Y==1,1], c= \"salmon\")\n",
        "      clear_output(wait=True)\n",
        "      plt.show()\n",
        "      plt.plot(range(len(lossPlt)),lossPlt)\n",
        "      plt.show()\n",
        "      time.sleep(0.5)\n",
        "\n",
        "      #print('Step', step, '/', n_steps, ' - Loss=', _loss, '- Acc:', acc)\n"
      ],
      "metadata": {
        "colab": {
          "base_uri": "https://localhost:8080/",
          "height": 702
        },
        "id": "jgTERp4F1Qc0",
        "outputId": "b609d24c-db65-4ec4-faac-80bcbfaf0608"
      },
      "execution_count": null,
      "outputs": [
        {
          "output_type": "stream",
          "name": "stdout",
          "text": [
            "(500,)\n",
            "(500, 2)\n",
            "(500,)\n",
            "(500,)\n"
          ]
        },
        {
          "output_type": "error",
          "ename": "ValueError",
          "evalue": "ignored",
          "traceback": [
            "\u001b[0;31m---------------------------------------------------------------------------\u001b[0m",
            "\u001b[0;31mValueError\u001b[0m                                Traceback (most recent call last)",
            "\u001b[0;32m<ipython-input-16-ddf2367e6d6a>\u001b[0m in \u001b[0;36m<module>\u001b[0;34m()\u001b[0m\n\u001b[1;32m     58\u001b[0m       \u001b[0macc\u001b[0m\u001b[0;34m=\u001b[0m \u001b[0mnp\u001b[0m\u001b[0;34m.\u001b[0m\u001b[0mmean\u001b[0m\u001b[0;34m(\u001b[0m\u001b[0mnp\u001b[0m\u001b[0;34m.\u001b[0m\u001b[0mround\u001b[0m\u001b[0;34m(\u001b[0m\u001b[0m_pY\u001b[0m\u001b[0;34m)\u001b[0m\u001b[0;34m==\u001b[0m\u001b[0mY\u001b[0m\u001b[0;34m)\u001b[0m\u001b[0;34m\u001b[0m\u001b[0;34m\u001b[0m\u001b[0m\n\u001b[1;32m     59\u001b[0m \u001b[0;34m\u001b[0m\u001b[0m\n\u001b[0;32m---> 60\u001b[0;31m       \u001b[0mplt\u001b[0m\u001b[0;34m.\u001b[0m\u001b[0mpcolormesh\u001b[0m\u001b[0;34m(\u001b[0m\u001b[0mX\u001b[0m\u001b[0;34m[\u001b[0m\u001b[0;34m:\u001b[0m\u001b[0;34m,\u001b[0m\u001b[0;36m0\u001b[0m\u001b[0;34m]\u001b[0m\u001b[0;34m,\u001b[0m\u001b[0mX\u001b[0m\u001b[0;34m[\u001b[0m\u001b[0;34m:\u001b[0m\u001b[0;34m,\u001b[0m\u001b[0;36m1\u001b[0m\u001b[0;34m]\u001b[0m\u001b[0;34m,\u001b[0m\u001b[0m_pY\u001b[0m\u001b[0;34m,\u001b[0m\u001b[0mcmap\u001b[0m\u001b[0;34m=\u001b[0m\u001b[0;34m\"coolwarm\"\u001b[0m\u001b[0;34m,\u001b[0m\u001b[0mvmin\u001b[0m\u001b[0;34m=\u001b[0m\u001b[0;36m0\u001b[0m\u001b[0;34m,\u001b[0m\u001b[0mvmax\u001b[0m\u001b[0;34m=\u001b[0m\u001b[0;36m1\u001b[0m\u001b[0;34m)\u001b[0m\u001b[0;34m\u001b[0m\u001b[0;34m\u001b[0m\u001b[0m\n\u001b[0m\u001b[1;32m     61\u001b[0m       \u001b[0;31m#plt.pcolormesh(_x0, _x1, _pY, cmap=\"coolwarm\")\u001b[0m\u001b[0;34m\u001b[0m\u001b[0;34m\u001b[0m\u001b[0;34m\u001b[0m\u001b[0m\n\u001b[1;32m     62\u001b[0m       \u001b[0mplt\u001b[0m\u001b[0;34m.\u001b[0m\u001b[0maxis\u001b[0m\u001b[0;34m(\u001b[0m\u001b[0;34m\"equal\"\u001b[0m\u001b[0;34m)\u001b[0m\u001b[0;34m\u001b[0m\u001b[0;34m\u001b[0m\u001b[0m\n",
            "\u001b[0;32m/usr/local/lib/python3.7/dist-packages/matplotlib/pyplot.py\u001b[0m in \u001b[0;36mpcolormesh\u001b[0;34m(alpha, norm, cmap, vmin, vmax, shading, antialiased, data, *args, **kwargs)\u001b[0m\n\u001b[1;32m   2723\u001b[0m         \u001b[0;34m*\u001b[0m\u001b[0margs\u001b[0m\u001b[0;34m,\u001b[0m \u001b[0malpha\u001b[0m\u001b[0;34m=\u001b[0m\u001b[0malpha\u001b[0m\u001b[0;34m,\u001b[0m \u001b[0mnorm\u001b[0m\u001b[0;34m=\u001b[0m\u001b[0mnorm\u001b[0m\u001b[0;34m,\u001b[0m \u001b[0mcmap\u001b[0m\u001b[0;34m=\u001b[0m\u001b[0mcmap\u001b[0m\u001b[0;34m,\u001b[0m \u001b[0mvmin\u001b[0m\u001b[0;34m=\u001b[0m\u001b[0mvmin\u001b[0m\u001b[0;34m,\u001b[0m\u001b[0;34m\u001b[0m\u001b[0;34m\u001b[0m\u001b[0m\n\u001b[1;32m   2724\u001b[0m         \u001b[0mvmax\u001b[0m\u001b[0;34m=\u001b[0m\u001b[0mvmax\u001b[0m\u001b[0;34m,\u001b[0m \u001b[0mshading\u001b[0m\u001b[0;34m=\u001b[0m\u001b[0mshading\u001b[0m\u001b[0;34m,\u001b[0m \u001b[0mantialiased\u001b[0m\u001b[0;34m=\u001b[0m\u001b[0mantialiased\u001b[0m\u001b[0;34m,\u001b[0m\u001b[0;34m\u001b[0m\u001b[0;34m\u001b[0m\u001b[0m\n\u001b[0;32m-> 2725\u001b[0;31m         **({\"data\": data} if data is not None else {}), **kwargs)\n\u001b[0m\u001b[1;32m   2726\u001b[0m     \u001b[0msci\u001b[0m\u001b[0;34m(\u001b[0m\u001b[0m__ret\u001b[0m\u001b[0;34m)\u001b[0m\u001b[0;34m\u001b[0m\u001b[0;34m\u001b[0m\u001b[0m\n\u001b[1;32m   2727\u001b[0m     \u001b[0;32mreturn\u001b[0m \u001b[0m__ret\u001b[0m\u001b[0;34m\u001b[0m\u001b[0;34m\u001b[0m\u001b[0m\n",
            "\u001b[0;32m/usr/local/lib/python3.7/dist-packages/matplotlib/__init__.py\u001b[0m in \u001b[0;36minner\u001b[0;34m(ax, data, *args, **kwargs)\u001b[0m\n\u001b[1;32m   1563\u001b[0m     \u001b[0;32mdef\u001b[0m \u001b[0minner\u001b[0m\u001b[0;34m(\u001b[0m\u001b[0max\u001b[0m\u001b[0;34m,\u001b[0m \u001b[0;34m*\u001b[0m\u001b[0margs\u001b[0m\u001b[0;34m,\u001b[0m \u001b[0mdata\u001b[0m\u001b[0;34m=\u001b[0m\u001b[0;32mNone\u001b[0m\u001b[0;34m,\u001b[0m \u001b[0;34m**\u001b[0m\u001b[0mkwargs\u001b[0m\u001b[0;34m)\u001b[0m\u001b[0;34m:\u001b[0m\u001b[0;34m\u001b[0m\u001b[0;34m\u001b[0m\u001b[0m\n\u001b[1;32m   1564\u001b[0m         \u001b[0;32mif\u001b[0m \u001b[0mdata\u001b[0m \u001b[0;32mis\u001b[0m \u001b[0;32mNone\u001b[0m\u001b[0;34m:\u001b[0m\u001b[0;34m\u001b[0m\u001b[0;34m\u001b[0m\u001b[0m\n\u001b[0;32m-> 1565\u001b[0;31m             \u001b[0;32mreturn\u001b[0m \u001b[0mfunc\u001b[0m\u001b[0;34m(\u001b[0m\u001b[0max\u001b[0m\u001b[0;34m,\u001b[0m \u001b[0;34m*\u001b[0m\u001b[0mmap\u001b[0m\u001b[0;34m(\u001b[0m\u001b[0msanitize_sequence\u001b[0m\u001b[0;34m,\u001b[0m \u001b[0margs\u001b[0m\u001b[0;34m)\u001b[0m\u001b[0;34m,\u001b[0m \u001b[0;34m**\u001b[0m\u001b[0mkwargs\u001b[0m\u001b[0;34m)\u001b[0m\u001b[0;34m\u001b[0m\u001b[0;34m\u001b[0m\u001b[0m\n\u001b[0m\u001b[1;32m   1566\u001b[0m \u001b[0;34m\u001b[0m\u001b[0m\n\u001b[1;32m   1567\u001b[0m         \u001b[0mbound\u001b[0m \u001b[0;34m=\u001b[0m \u001b[0mnew_sig\u001b[0m\u001b[0;34m.\u001b[0m\u001b[0mbind\u001b[0m\u001b[0;34m(\u001b[0m\u001b[0max\u001b[0m\u001b[0;34m,\u001b[0m \u001b[0;34m*\u001b[0m\u001b[0margs\u001b[0m\u001b[0;34m,\u001b[0m \u001b[0;34m**\u001b[0m\u001b[0mkwargs\u001b[0m\u001b[0;34m)\u001b[0m\u001b[0;34m\u001b[0m\u001b[0;34m\u001b[0m\u001b[0m\n",
            "\u001b[0;32m/usr/local/lib/python3.7/dist-packages/matplotlib/axes/_axes.py\u001b[0m in \u001b[0;36mpcolormesh\u001b[0;34m(self, alpha, norm, cmap, vmin, vmax, shading, antialiased, *args, **kwargs)\u001b[0m\n\u001b[1;32m   6102\u001b[0m         \u001b[0mallmatch\u001b[0m \u001b[0;34m=\u001b[0m \u001b[0;34m(\u001b[0m\u001b[0mshading\u001b[0m \u001b[0;34m==\u001b[0m \u001b[0;34m'gouraud'\u001b[0m\u001b[0;34m)\u001b[0m\u001b[0;34m\u001b[0m\u001b[0;34m\u001b[0m\u001b[0m\n\u001b[1;32m   6103\u001b[0m \u001b[0;34m\u001b[0m\u001b[0m\n\u001b[0;32m-> 6104\u001b[0;31m         \u001b[0mX\u001b[0m\u001b[0;34m,\u001b[0m \u001b[0mY\u001b[0m\u001b[0;34m,\u001b[0m \u001b[0mC\u001b[0m \u001b[0;34m=\u001b[0m \u001b[0mself\u001b[0m\u001b[0;34m.\u001b[0m\u001b[0m_pcolorargs\u001b[0m\u001b[0;34m(\u001b[0m\u001b[0;34m'pcolormesh'\u001b[0m\u001b[0;34m,\u001b[0m \u001b[0;34m*\u001b[0m\u001b[0margs\u001b[0m\u001b[0;34m,\u001b[0m \u001b[0mallmatch\u001b[0m\u001b[0;34m=\u001b[0m\u001b[0mallmatch\u001b[0m\u001b[0;34m)\u001b[0m\u001b[0;34m\u001b[0m\u001b[0;34m\u001b[0m\u001b[0m\n\u001b[0m\u001b[1;32m   6105\u001b[0m         \u001b[0mNy\u001b[0m\u001b[0;34m,\u001b[0m \u001b[0mNx\u001b[0m \u001b[0;34m=\u001b[0m \u001b[0mX\u001b[0m\u001b[0;34m.\u001b[0m\u001b[0mshape\u001b[0m\u001b[0;34m\u001b[0m\u001b[0;34m\u001b[0m\u001b[0m\n\u001b[1;32m   6106\u001b[0m         \u001b[0mX\u001b[0m \u001b[0;34m=\u001b[0m \u001b[0mX\u001b[0m\u001b[0;34m.\u001b[0m\u001b[0mravel\u001b[0m\u001b[0;34m(\u001b[0m\u001b[0;34m)\u001b[0m\u001b[0;34m\u001b[0m\u001b[0;34m\u001b[0m\u001b[0m\n",
            "\u001b[0;32m/usr/local/lib/python3.7/dist-packages/matplotlib/axes/_axes.py\u001b[0m in \u001b[0;36m_pcolorargs\u001b[0;34m(funcname, allmatch, *args)\u001b[0m\n\u001b[1;32m   5678\u001b[0m                 \u001b[0;32mif\u001b[0m \u001b[0misinstance\u001b[0m\u001b[0;34m(\u001b[0m\u001b[0mY\u001b[0m\u001b[0;34m,\u001b[0m \u001b[0mnp\u001b[0m\u001b[0;34m.\u001b[0m\u001b[0mma\u001b[0m\u001b[0;34m.\u001b[0m\u001b[0mcore\u001b[0m\u001b[0;34m.\u001b[0m\u001b[0mMaskedArray\u001b[0m\u001b[0;34m)\u001b[0m\u001b[0;34m:\u001b[0m\u001b[0;34m\u001b[0m\u001b[0;34m\u001b[0m\u001b[0m\n\u001b[1;32m   5679\u001b[0m                     \u001b[0mY\u001b[0m \u001b[0;34m=\u001b[0m \u001b[0mY\u001b[0m\u001b[0;34m.\u001b[0m\u001b[0mdata\u001b[0m\u001b[0;34m\u001b[0m\u001b[0;34m\u001b[0m\u001b[0m\n\u001b[0;32m-> 5680\u001b[0;31m             \u001b[0mnrows\u001b[0m\u001b[0;34m,\u001b[0m \u001b[0mncols\u001b[0m \u001b[0;34m=\u001b[0m \u001b[0mC\u001b[0m\u001b[0;34m.\u001b[0m\u001b[0mshape\u001b[0m\u001b[0;34m\u001b[0m\u001b[0;34m\u001b[0m\u001b[0m\n\u001b[0m\u001b[1;32m   5681\u001b[0m         \u001b[0;32melse\u001b[0m\u001b[0;34m:\u001b[0m\u001b[0;34m\u001b[0m\u001b[0;34m\u001b[0m\u001b[0m\n\u001b[1;32m   5682\u001b[0m             raise TypeError(\n",
            "\u001b[0;31mValueError\u001b[0m: not enough values to unpack (expected 2, got 1)"
          ]
        },
        {
          "output_type": "display_data",
          "data": {
            "image/png": "[encoded data removed]",
            "text/plain": [
              "<Figure size 432x288 with 1 Axes>"
            ]
          },
          "metadata": {
            "needs_background": "light"
          }
        }
      ]
    },
    {
      "cell_type": "code",
      "source": [
        "Z = np.random.rand(6, 10)\n",
        "print(Z)"
      ],
      "metadata": {
        "colab": {
          "base_uri": "https://localhost:8080/"
        },
        "id": "P6o3ke7QuuHq",
        "outputId": "b8c1fdc3-97ed-46bf-f33c-63ee35582afc"
      },
      "execution_count": null,
      "outputs": [
        {
          "output_type": "stream",
          "name": "stdout",
          "text": [
            "[[0.8008855  0.65716803 0.50951398 0.76035555 0.02028186 0.57885506\n",
            "  0.6156577  0.03720979 0.22352476 0.07826149]\n",
            " [0.6791941  0.67782448 0.89808225 0.22091161 0.26475861 0.73032304\n",
            "  0.06493885 0.0758541  0.13449536 0.98859014]\n",
            " [0.65968624 0.58899974 0.40007018 0.64472051 0.88970396 0.60882486\n",
            "  0.7650276  0.6485798  0.92019845 0.10703297]\n",
            " [0.73345078 0.65047395 0.06906749 0.21434465 0.87300871 0.02025437\n",
            "  0.86544727 0.84155051 0.97064184 0.36428388]\n",
            " [0.07362317 0.42323451 0.60575242 0.22332434 0.02303911 0.18247965\n",
            "  0.69657165 0.00961653 0.79124441 0.97200571]\n",
            " [0.48988948 0.57721792 0.82648514 0.81237923 0.77444404 0.02225399\n",
            "  0.04776327 0.33906288 0.74783799 0.46521212]]\n"
          ]
        }
      ]
    }
  ]
}